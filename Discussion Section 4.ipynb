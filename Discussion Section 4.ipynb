{
 "cells": [
  {
   "cell_type": "markdown",
   "id": "4b0a36e1",
   "metadata": {},
   "source": [
    "# Excersice 1: List Comprehension "
   ]
  },
  {
   "cell_type": "markdown",
   "id": "2d5ee4e8",
   "metadata": {},
   "source": [
    "Let's review some list comprehension commands together! Use mylist for the excerises below, except for the last one."
   ]
  },
  {
   "cell_type": "code",
   "execution_count": 2,
   "id": "229e6f04",
   "metadata": {},
   "outputs": [],
   "source": [
    "mylist = [1,2,3,4,5,6]\n",
    "\n",
    "#Using list comprehension, make a new list containing only even numbers. HINT: use the modulo operator.\n",
    "#OTHER HINT: If you don't know what modulo is...look it up!\n",
    "\n",
    "new_list = [something for something in somewhere if something==i dont know]\n",
    "print(new_list)\n",
    "\n",
    "#Using list comprehension, make a new list containing the squares of each number in mylist\n",
    "\n",
    "new_list = [something for something in somewhere if something==i dont know]\n",
    "print(new_list)\n",
    "\n",
    "#Using list comprehension, make a new list where each new element is the old element + 5\n",
    "\n",
    "new_list = [something for something in somewhere if something==i dont know]\n",
    "\n",
    "#Using list comprehension, make a new list where each number is less than 5. You will not use mylist for this.\n",
    "\n",
    "new_list = [something for something in somewhere if something==i dont know]"
   ]
  },
  {
   "cell_type": "markdown",
   "id": "8524098e",
   "metadata": {},
   "source": [
    "# Excersice 2: Bug Fixing/Error Catching in Another File"
   ]
  },
  {
   "cell_type": "markdown",
   "id": "9b817959",
   "metadata": {},
   "source": [
    "I have included another file for this weeks discussion, containing two functions. What I'd like for you to do is complete these functions and bug fix them. Examples of how to bugfix these functions include:\n",
    "\n",
    "-Add print statements to see what each variable is while the code is running \n",
    "\n",
    "-Assert that the value must be something"
   ]
  },
  {
   "cell_type": "code",
   "execution_count": 5,
   "id": "6a206b0e",
   "metadata": {},
   "outputs": [
    {
     "ename": "AssertionError",
     "evalue": "Error log here",
     "output_type": "error",
     "traceback": [
      "\u001b[0;31m---------------------------------------------------------------------------\u001b[0m",
      "\u001b[0;31mAssertionError\u001b[0m                            Traceback (most recent call last)",
      "Input \u001b[0;32mIn [5]\u001b[0m, in \u001b[0;36m<cell line: 4>\u001b[0;34m()\u001b[0m\n\u001b[1;32m      1\u001b[0m \u001b[38;5;28;01mdef\u001b[39;00m \u001b[38;5;21mexample\u001b[39m(ok):\n\u001b[1;32m      2\u001b[0m     \u001b[38;5;28;01massert\u001b[39;00m ok \u001b[38;5;241m!=\u001b[39m \u001b[38;5;241m0\u001b[39m, \u001b[38;5;124m'\u001b[39m\u001b[38;5;124mError log here\u001b[39m\u001b[38;5;124m'\u001b[39m\n\u001b[0;32m----> 4\u001b[0m \u001b[43mexample\u001b[49m\u001b[43m(\u001b[49m\u001b[38;5;241;43m0\u001b[39;49m\u001b[43m)\u001b[49m\n",
      "Input \u001b[0;32mIn [5]\u001b[0m, in \u001b[0;36mexample\u001b[0;34m(ok)\u001b[0m\n\u001b[1;32m      1\u001b[0m \u001b[38;5;28;01mdef\u001b[39;00m \u001b[38;5;21mexample\u001b[39m(ok):\n\u001b[0;32m----> 2\u001b[0m     \u001b[38;5;28;01massert\u001b[39;00m ok \u001b[38;5;241m!=\u001b[39m \u001b[38;5;241m0\u001b[39m, \u001b[38;5;124m'\u001b[39m\u001b[38;5;124mError log here\u001b[39m\u001b[38;5;124m'\u001b[39m\n",
      "\u001b[0;31mAssertionError\u001b[0m: Error log here"
     ]
    }
   ],
   "source": [
    "def example(ok):\n",
    "    assert ok != 0, 'Error log here'\n",
    "\n",
    "example(0)"
   ]
  },
  {
   "cell_type": "markdown",
   "id": "d2f2deaf",
   "metadata": {},
   "source": [
    "Go into the .py file I've included with this discussion assignment and fix and complete the code. We will go over bug fixes together. Note: When you save the .py file, you need to rerurn the cell containing the file import OR restart the kernel for Jupyter otherwise it will not import the newest version of the .py file."
   ]
  },
  {
   "cell_type": "code",
   "execution_count": null,
   "id": "4459047b",
   "metadata": {},
   "outputs": [],
   "source": [
    "import Funzone\n",
    "stars(5)\n",
    "stars(-5)\n",
    "stars(0)\n",
    "rock_paper_scissors('Rock')\n",
    "rock_paper_scissors('Lemon')\n",
    "rock_paper_scissors(5)"
   ]
  }
 ],
 "metadata": {
  "kernelspec": {
   "display_name": "Python 3 (ipykernel)",
   "language": "python",
   "name": "python3"
  },
  "language_info": {
   "codemirror_mode": {
    "name": "ipython",
    "version": 3
   },
   "file_extension": ".py",
   "mimetype": "text/x-python",
   "name": "python",
   "nbconvert_exporter": "python",
   "pygments_lexer": "ipython3",
   "version": "3.9.12"
  }
 },
 "nbformat": 4,
 "nbformat_minor": 5
}
